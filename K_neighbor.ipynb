{
 "cells": [
  {
   "cell_type": "code",
   "execution_count": 1,
   "metadata": {},
   "outputs": [],
   "source": [
    "#K-nearest neighbor is a supervised algorithm\n",
    "#In training , it doesnt almost learning. From train_file it memories mechanically\n",
    "#KNN for Regression or Classifier Problem\n"
   ]
  },
  {
   "cell_type": "code",
   "execution_count": 2,
   "metadata": {},
   "outputs": [],
   "source": [
    "#Besides it is call lazy learning algorithm , memory-based learning\n",
    "#K-means is algorithm from searching output based on K-points nearest in training data\n",
    "#With KNN, every points in training data is trained by model which describes exactly \n",
    "#So that makes overfitting easily happen with KNN\n"
   ]
  },
  {
   "cell_type": "code",
   "execution_count": 3,
   "metadata": {},
   "outputs": [],
   "source": [
    "#In KNN we need two problems. How distance is define and Calculating effectively Distance\n",
    "#With the first problem : distance between two points is vector distance. We normaly use Euculid distance\n",
    "#Euculid distance : || z - x ||_2^2 // we square distance beacause dont need cal sqrt\n",
    "# || z- x ||^T * ||z-x|| = z^2 + x^2 -2x^T*z\n",
    "#We can ommit 'z^2' . In program we can cal x^2 and pre-stored to memory\n",
    "#Then we just need cal X^T*Z"
   ]
  },
  {
   "cell_type": "code",
   "execution_count": 10,
   "metadata": {},
   "outputs": [
    {
     "data": {
      "text/plain": [
       "(1000, 500)"
      ]
     },
     "execution_count": 10,
     "metadata": {},
     "output_type": "execute_result"
    }
   ],
   "source": [
    "#Example\n",
    "import numpy as np\n",
    "d, N = 500,1000 #dimention, number of trainning data\n",
    "X = np.random.randn(N,d)\n",
    "X.shape"
   ]
  },
  {
   "cell_type": "code",
   "execution_count": 11,
   "metadata": {},
   "outputs": [
    {
     "data": {
      "text/plain": [
       "(500,)"
      ]
     },
     "execution_count": 11,
     "metadata": {},
     "output_type": "execute_result"
    }
   ],
   "source": [
    "Y =np.random.random(d)\n",
    "Y.shape"
   ]
  }
 ],
 "metadata": {
  "kernelspec": {
   "display_name": "Python 3",
   "language": "python",
   "name": "python3"
  },
  "language_info": {
   "codemirror_mode": {
    "name": "ipython",
    "version": 3
   },
   "file_extension": ".py",
   "mimetype": "text/x-python",
   "name": "python",
   "nbconvert_exporter": "python",
   "pygments_lexer": "ipython3",
   "version": "3.11.4"
  }
 },
 "nbformat": 4,
 "nbformat_minor": 2
}
